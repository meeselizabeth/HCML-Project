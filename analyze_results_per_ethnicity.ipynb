{
 "cells": [
  {
   "cell_type": "code",
   "execution_count": 1,
   "metadata": {},
   "outputs": [],
   "source": [
    "import numpy as np\n",
    "import tensorflow as tf\n",
    "from tensorflow import keras \n",
    "import pandas as pd\n",
    "import os\n",
    "import cv2\n",
    "from sklearn.metrics import confusion_matrix, ConfusionMatrixDisplay"
   ]
  },
  {
   "cell_type": "code",
   "execution_count": 2,
   "metadata": {},
   "outputs": [],
   "source": [
    "model = keras.models.load_model(\"saved_model_10_epochs.h5\")\n",
    "meta_data = pd.read_csv(\"heysem_data/eth_gender_anno_all.xlsx - eth_gender_trait_annotations_de.csv\")\n",
    "# use same encoding \n",
    "meta_data['Gender'] = meta_data[\"Gender\"].replace(2, 0)"
   ]
  },
  {
   "cell_type": "code",
   "execution_count": 3,
   "metadata": {},
   "outputs": [
    {
     "data": {
      "text/plain": [
       "Ethnicity\n",
       "2    8598\n",
       "3    1071\n",
       "1     331\n",
       "Name: count, dtype: int64"
      ]
     },
     "execution_count": 3,
     "metadata": {},
     "output_type": "execute_result"
    }
   ],
   "source": [
    "# clear difference in occurences in data\n",
    "meta_data[\"Ethnicity\"].value_counts()"
   ]
  },
  {
   "cell_type": "code",
   "execution_count": 4,
   "metadata": {},
   "outputs": [],
   "source": [
    "def load_and_preprocess_image(image_path):\n",
    "    # NOTE: ensure this matches the original model!!!\n",
    "    img = cv2.imread(image_path)\n",
    "    img = cv2.resize(img, (256, 256))\n",
    "    # img = img.astype(np.float32) / 255.0  # Normalize pixel values\n",
    "    return img"
   ]
  },
  {
   "cell_type": "code",
   "execution_count": 5,
   "metadata": {},
   "outputs": [],
   "source": [
    "# ends with .JPG is just a safety measure, unsure if needed\n",
    "img_paths = [\"heysem_data/dev/\" + file for file in os.listdir(\"heysem_data/dev/\") if file.endswith('.JPG')]\n",
    "\n",
    "first_and_last = img_paths[:100] + img_paths[-100:]\n",
    "image_data = [load_and_preprocess_image(path) for path in first_and_last]"
   ]
  },
  {
   "cell_type": "code",
   "execution_count": 6,
   "metadata": {},
   "outputs": [],
   "source": [
    "# this takes qiuite a long time (~8 sec for 200 paths on teun's laptop)\n",
    "dataset = tf.data.Dataset.from_tensor_slices(image_data).batch(32)"
   ]
  },
  {
   "cell_type": "code",
   "execution_count": 7,
   "metadata": {},
   "outputs": [
    {
     "name": "stdout",
     "output_type": "stream",
     "text": [
      "1/1 [==============================] - 11s 11s/step\n",
      "1/1 [==============================] - 10s 10s/step\n",
      "1/1 [==============================] - 10s 10s/step\n",
      "1/1 [==============================] - 12s 12s/step\n",
      "1/1 [==============================] - 11s 11s/step\n",
      "1/1 [==============================] - 10s 10s/step\n",
      "1/1 [==============================] - 2s 2s/step\n"
     ]
    }
   ],
   "source": [
    "# this takes a long time on my laptop, 1-2min on 200 samples\n",
    "predictions = []\n",
    "for batch in dataset:\n",
    "    # argmax with axis=1 to get label immediately\n",
    "    predictions.append(np.argmax(model.predict(batch), axis=1))"
   ]
  },
  {
   "cell_type": "code",
   "execution_count": 8,
   "metadata": {},
   "outputs": [],
   "source": [
    "results_dict = {}\n",
    "\n",
    "# hstack to flatten predictions\n",
    "for pred, path in zip(np.hstack(predictions), first_and_last):\n",
    "    trim_path = path[16:-4]\n",
    "    row = meta_data.loc[meta_data[\"VideoName\"] == trim_path]\n",
    "    # print(row)\n",
    "    # print(tuple(row[[\"Ethnicity\", \"Gender\"]].values))\n",
    "    ethnicity, gender = tuple(row[[\"Ethnicity\", \"Gender\"]].values[0])\n",
    "\n",
    "    results_dict[trim_path] = (pred, ethnicity, gender) \n",
    "    "
   ]
  },
  {
   "cell_type": "code",
   "execution_count": 9,
   "metadata": {},
   "outputs": [
    {
     "name": "stdout",
     "output_type": "stream",
     "text": [
      "(200, 3)\n"
     ]
    },
    {
     "data": {
      "text/html": [
       "<div>\n",
       "<style scoped>\n",
       "    .dataframe tbody tr th:only-of-type {\n",
       "        vertical-align: middle;\n",
       "    }\n",
       "\n",
       "    .dataframe tbody tr th {\n",
       "        vertical-align: top;\n",
       "    }\n",
       "\n",
       "    .dataframe thead th {\n",
       "        text-align: right;\n",
       "    }\n",
       "</style>\n",
       "<table border=\"1\" class=\"dataframe\">\n",
       "  <thead>\n",
       "    <tr style=\"text-align: right;\">\n",
       "      <th></th>\n",
       "      <th>gender_prediction</th>\n",
       "      <th>ethnicity</th>\n",
       "      <th>gender_true</th>\n",
       "    </tr>\n",
       "  </thead>\n",
       "  <tbody>\n",
       "    <tr>\n",
       "      <th>--Ymqszjv54.001.mp4</th>\n",
       "      <td>1</td>\n",
       "      <td>2</td>\n",
       "      <td>1</td>\n",
       "    </tr>\n",
       "    <tr>\n",
       "      <th>--Ymqszjv54.003.mp4</th>\n",
       "      <td>1</td>\n",
       "      <td>2</td>\n",
       "      <td>1</td>\n",
       "    </tr>\n",
       "    <tr>\n",
       "      <th>--Ymqszjv54.004.mp4</th>\n",
       "      <td>1</td>\n",
       "      <td>2</td>\n",
       "      <td>1</td>\n",
       "    </tr>\n",
       "    <tr>\n",
       "      <th>--Ymqszjv54.005.mp4</th>\n",
       "      <td>1</td>\n",
       "      <td>2</td>\n",
       "      <td>1</td>\n",
       "    </tr>\n",
       "    <tr>\n",
       "      <th>-2qsCrkXdWs.001.mp4</th>\n",
       "      <td>1</td>\n",
       "      <td>2</td>\n",
       "      <td>1</td>\n",
       "    </tr>\n",
       "  </tbody>\n",
       "</table>\n",
       "</div>"
      ],
      "text/plain": [
       "                     gender_prediction  ethnicity  gender_true\n",
       "--Ymqszjv54.001.mp4                  1          2            1\n",
       "--Ymqszjv54.003.mp4                  1          2            1\n",
       "--Ymqszjv54.004.mp4                  1          2            1\n",
       "--Ymqszjv54.005.mp4                  1          2            1\n",
       "-2qsCrkXdWs.001.mp4                  1          2            1"
      ]
     },
     "execution_count": 9,
     "metadata": {},
     "output_type": "execute_result"
    }
   ],
   "source": [
    "df = pd.DataFrame.from_dict(results_dict).T\n",
    "df.columns = [\"gender_prediction\", \"ethnicity\", \"gender_true\"]\n",
    "print(df.shape)\n",
    "df.head()"
   ]
  },
  {
   "cell_type": "code",
   "execution_count": 10,
   "metadata": {},
   "outputs": [
    {
     "name": "stdout",
     "output_type": "stream",
     "text": [
      "\n",
      "\n",
      "Asian\n",
      "Accuracy: 0.818\n",
      "<sklearn.metrics._plot.confusion_matrix.ConfusionMatrixDisplay object at 0x0000018EC58174F0>\n",
      "\n",
      "\n",
      "Caucasian\n",
      "Accuracy: 0.769\n",
      "<sklearn.metrics._plot.confusion_matrix.ConfusionMatrixDisplay object at 0x0000018EC57D6A10>\n",
      "\n",
      "\n",
      "African-American\n",
      "Accuracy: 0.7\n",
      "<sklearn.metrics._plot.confusion_matrix.ConfusionMatrixDisplay object at 0x0000018EC3DA2EC0>\n"
     ]
    }
   ],
   "source": [
    "# index to ethnicity according to orignal dataset\n",
    "i2e = {1: \"Asian\", 2:\"Caucasian\", 3:\"African-American\"}\n",
    "\n",
    "for e in i2e.keys():\n",
    "    e_df = df.loc[df['ethnicity']==e]\n",
    "    \n",
    "    print(f\"\\n\\n{i2e[e]}\")\n",
    "    acc = round(sum(e_df['gender_prediction'] == e_df['gender_true'])/len(e_df), 3)\n",
    "\n",
    "    print(f\"Accuracy: {acc}\")\n",
    "    cm = confusion_matrix(e_df[\"gender_true\"], e_df[\"gender_prediction\"])\n",
    "    print(ConfusionMatrixDisplay(cm))\n",
    "\n"
   ]
  },
  {
   "cell_type": "code",
   "execution_count": null,
   "metadata": {},
   "outputs": [],
   "source": []
  }
 ],
 "metadata": {
  "kernelspec": {
   "display_name": "Python 3.10.6 64-bit",
   "language": "python",
   "name": "python3"
  },
  "language_info": {
   "codemirror_mode": {
    "name": "ipython",
    "version": 3
   },
   "file_extension": ".py",
   "mimetype": "text/x-python",
   "name": "python",
   "nbconvert_exporter": "python",
   "pygments_lexer": "ipython3",
   "version": "3.10.11"
  },
  "vscode": {
   "interpreter": {
    "hash": "b0fa6594d8f4cbf19f97940f81e996739fb7646882a419484c72d19e05852a7e"
   }
  }
 },
 "nbformat": 4,
 "nbformat_minor": 2
}
