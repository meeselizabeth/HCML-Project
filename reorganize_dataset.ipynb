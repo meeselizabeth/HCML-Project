{
 "cells": [
  {
   "cell_type": "code",
   "execution_count": 47,
   "metadata": {},
   "outputs": [
    {
     "name": "stdout",
     "output_type": "stream",
     "text": [
      "Number of images: 2000\n"
     ]
    }
   ],
   "source": [
    "import shutil\n",
    "import os\n",
    "import pandas as pd\n",
    "    \n",
    "source_dir = 'heysem_data/test'\n",
    "target_dir = 'sorted_data/test'\n",
    "    \n",
    "paths = os.listdir(source_dir)\n",
    "print(f\"Number of images: {len(paths)}\")\n",
    "\n",
    "meta_data = pd.read_csv(\"heysem_data/eth_gender_anno_all.xlsx - eth_gender_trait_annotations_de.csv\")\n",
    "# use same encoding \n",
    "meta_data['Gender'] = meta_data[\"Gender\"].replace(2, 0)"
   ]
  },
  {
   "cell_type": "code",
   "execution_count": 50,
   "metadata": {},
   "outputs": [],
   "source": [
    "missed_files = 0\n",
    "for path in paths:\n",
    "    trim_path = path[:-4]\n",
    "    gender = meta_data.loc[meta_data[\"VideoName\"] == trim_path]['Gender'].values\n",
    "\n",
    "    try:\n",
    "        if gender == 0:\n",
    "            # shutil.move(os.path.join(source_dir, path), os.path.join('sorted_data/train', \"man\", path))\n",
    "            # shutil.move(os.path.join(source_dir, path), 'sorted_data/train', \"man\", path))\n",
    "            shutil.copy(f\"heysem_data/test/{path}\", \"sorted_data/test/woman/\")\n",
    "            continue    \n",
    "    \n",
    "        elif gender == 1:\n",
    "            # shutil.move(os.path.join(source_dir, path), os.path.join('sorted_data/train', \"woman\", path))\n",
    "            shutil.copy(f\"heysem_data/test/{path}\", \"sorted_data/test/man/\")\n",
    "\n",
    "        else: \n",
    "            print(\"gender is wrong\")\n",
    "            break\n",
    "        \n",
    "    except FileNotFoundError:\n",
    "        missed_files += 1 \n",
    "\n",
    "        print(missed_files)\n"
   ]
  },
  {
   "cell_type": "code",
   "execution_count": null,
   "metadata": {},
   "outputs": [],
   "source": []
  }
 ],
 "metadata": {
  "kernelspec": {
   "display_name": "hcml_venv",
   "language": "python",
   "name": "python3"
  },
  "language_info": {
   "codemirror_mode": {
    "name": "ipython",
    "version": 3
   },
   "file_extension": ".py",
   "mimetype": "text/x-python",
   "name": "python",
   "nbconvert_exporter": "python",
   "pygments_lexer": "ipython3",
   "version": "3.10.11"
  },
  "orig_nbformat": 4
 },
 "nbformat": 4,
 "nbformat_minor": 2
}
